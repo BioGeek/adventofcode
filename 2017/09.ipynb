{
 "cells": [
  {
   "cell_type": "markdown",
   "metadata": {},
   "source": [
    "https://adventofcode.com/2017/day/9"
   ]
  },
  {
   "cell_type": "code",
   "execution_count": 1,
   "metadata": {},
   "outputs": [],
   "source": [
    "import re"
   ]
  },
  {
   "cell_type": "code",
   "execution_count": 2,
   "metadata": {},
   "outputs": [],
   "source": [
    "def lex(characters, token_exprs):\n",
    "    \"\"\"https://www.jayconrod.com/posts/37/a-simple-interpreter-from-scratch-in-python-part-1\"\"\"\n",
    "    pos = 0\n",
    "    tokens = []\n",
    "    while pos < len(characters):\n",
    "        match = None\n",
    "        for token_expr in token_exprs:\n",
    "            pattern, tag = token_expr\n",
    "            regex = re.compile(pattern)\n",
    "            match = regex.match(characters, pos)\n",
    "            if match:\n",
    "                text = match.group(0)\n",
    "                if tag:\n",
    "                    token = (text, tag)\n",
    "                    tokens.append(token)\n",
    "                break\n",
    "        if not match:\n",
    "            tokens.append((characters[pos], 'Illegal character'))\n",
    "        else:\n",
    "            pos = match.end(0)\n",
    "    return tokens"
   ]
  },
  {
   "cell_type": "code",
   "execution_count": 3,
   "metadata": {},
   "outputs": [],
   "source": [
    "RESERVED = 'RESERVED'\n",
    "\n",
    "token_exprs = [\n",
    "    (r'{',                    RESERVED),\n",
    "    (r'}',                    RESERVED),\n",
    "]"
   ]
  },
  {
   "cell_type": "code",
   "execution_count": null,
   "metadata": {},
   "outputs": [],
   "source": [
    "# characters, number of groups, score\n",
    "valids = [\n",
    "    ('{}', 1, 1),\n",
    "    ('{{{}}}', 3, 6),\n",
    "    ('{{},{}},', 3, 5),\n",
    "    ('{{{},{},{{}}}}', 6, 16),\n",
    "    ('{<{},{},{{}}>}', 1, 1)\n",
    "]"
   ]
  },
  {
   "cell_type": "code",
   "execution_count": null,
   "metadata": {},
   "outputs": [],
   "source": [
    "def lexer(characters):\n",
    "    return lex(characters, token_exprs)\n",
    "\n",
    "def groups(characters):\n",
    "    pass\n",
    "    \n",
    "\n",
    "def score(characters):\n",
    "    pass\n",
    "    "
   ]
  },
  {
   "cell_type": "code",
   "execution_count": null,
   "metadata": {},
   "outputs": [],
   "source": [
    "for valid in valids:\n",
    "    characters, groups, score = valid\n",
    "    print(characters)\n",
    "    \n",
    "    #print(characters, lexer(characters))"
   ]
  },
  {
   "cell_type": "code",
   "execution_count": null,
   "metadata": {},
   "outputs": [],
   "source": []
  },
  {
   "cell_type": "code",
   "execution_count": null,
   "metadata": {},
   "outputs": [],
   "source": []
  }
 ],
 "metadata": {
  "kernelspec": {
   "display_name": "Python 3",
   "language": "python",
   "name": "python3"
  },
  "language_info": {
   "codemirror_mode": {
    "name": "ipython",
    "version": 3
   },
   "file_extension": ".py",
   "mimetype": "text/x-python",
   "name": "python",
   "nbconvert_exporter": "python",
   "pygments_lexer": "ipython3",
   "version": "3.5.2"
  }
 },
 "nbformat": 4,
 "nbformat_minor": 2
}
