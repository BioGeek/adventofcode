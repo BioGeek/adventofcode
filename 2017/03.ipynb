{
 "cells": [
  {
   "cell_type": "code",
   "execution_count": 83,
   "metadata": {},
   "outputs": [],
   "source": [
    "# inspired by https://stackoverflow.com/a/36961645/50065\n",
    "# and https://github.com/norvig/pytudes/blob/master/ipynb/Advent%20of%20Code.ipynb\n",
    "\n",
    "from math import ceil, sqrt\n",
    "from itertools import cycle, count\n",
    "from collections import defaultdict\n",
    "\n",
    "def spiral_distances():\n",
    "    \"\"\"\n",
    "    Yields 1, 1, 2, 2, 3, 3, ...\n",
    "    \"\"\"\n",
    "    for distance in count(1):\n",
    "        for _ in (0, 1):\n",
    "            yield distance\n",
    "            \n",
    "\n",
    "def clockwise_directions():\n",
    "    \"\"\"\n",
    "    Yields right, down, left, up, right, down, left, up, right, ...\n",
    "    \"\"\"\n",
    "    left = (-1, 0)\n",
    "    right = (1, 0)\n",
    "    up = (0, 1)\n",
    "    down = (0, -1)\n",
    "    return cycle((right, up, left, down))\n",
    "\n",
    "\n",
    "def spiral_movements():\n",
    "    \"\"\"\n",
    "    Yields each individual movement to make a spiral:\n",
    "    right, down, left, left, up, up, right, right, right, down, down, down, ...\n",
    "    \"\"\"\n",
    "    for distance, direction in zip(spiral_distances(), clockwise_directions()):\n",
    "        for _ in range(distance):\n",
    "            yield direction\n",
    "          \n",
    "# 2-D points implemented using (x, y) tuples\n",
    "def X(point): return point[0]\n",
    "def Y(point): return point[1]\n",
    "\n",
    "def add(p, q):\n",
    "    return (X(p) + X(q), Y(p) + Y(q))\n",
    "\n",
    "def cityblock_distance(p, q=(0, 0)): \n",
    "    \"City block distance between two points.\"\n",
    "    return abs(X(p) - X(q)) + abs(Y(p) - Y(q))\n",
    "\n",
    "def neighbors8(point): \n",
    "    \"The eight neighbors (with diagonals).\"\n",
    "    x, y = point \n",
    "    return ((x+1, y), (x-1, y), (x, y+1), (x, y-1),\n",
    "            (x+1, y+1), (x-1, y-1), (x+1, y-1), (x-1, y+1))\n",
    "    \n",
    "\n",
    "def main(n):\n",
    "    current_position = (0, 0)\n",
    "    s = spiral_movements()\n",
    "    for i in range(2, n+1):\n",
    "        change = next(s)\n",
    "        current_position = add(current_position, change)\n",
    "    return cityblock_distance(current_position)\n",
    "\n",
    "def main2(n):\n",
    "    current_position = (0, 0)\n",
    "    current_value = 1\n",
    "    values = defaultdict(int)\n",
    "    values[current_position] =  current_value\n",
    "    s = spiral_movements()\n",
    "    while current_value < n:\n",
    "        change = next(s)\n",
    "        current_position = add(current_position, change)\n",
    "        neighbors = neighbors8(current_position)\n",
    "        current_value = sum([values[n] for n in neighbors])\n",
    "        values[current_position] = current_value\n",
    "        # print(current_value, current_position, {(k, v) for (k, v) in values.items() if v})\n",
    "    return current_value"
   ]
  },
  {
   "cell_type": "code",
   "execution_count": 84,
   "metadata": {},
   "outputs": [],
   "source": [
    "assert main(12) == 3\n",
    "assert main(23) == 2\n",
    "assert main(1024) == 31"
   ]
  },
  {
   "cell_type": "code",
   "execution_count": 85,
   "metadata": {},
   "outputs": [
    {
     "data": {
      "text/plain": [
       "326"
      ]
     },
     "execution_count": 85,
     "metadata": {},
     "output_type": "execute_result"
    }
   ],
   "source": [
    "main(361527)"
   ]
  },
  {
   "cell_type": "code",
   "execution_count": 86,
   "metadata": {},
   "outputs": [],
   "source": [
    "assert main2(12) == 23\n",
    "assert main2(800) == 806"
   ]
  },
  {
   "cell_type": "code",
   "execution_count": 87,
   "metadata": {},
   "outputs": [
    {
     "data": {
      "text/plain": [
       "363010"
      ]
     },
     "execution_count": 87,
     "metadata": {},
     "output_type": "execute_result"
    }
   ],
   "source": [
    "main2(361527)"
   ]
  },
  {
   "cell_type": "code",
   "execution_count": null,
   "metadata": {},
   "outputs": [],
   "source": [
    "\n",
    "          "
   ]
  },
  {
   "cell_type": "code",
   "execution_count": null,
   "metadata": {},
   "outputs": [],
   "source": []
  }
 ],
 "metadata": {
  "kernelspec": {
   "display_name": "Python 3.6.4",
   "language": "python",
   "name": "python_3.6.4"
  },
  "language_info": {
   "codemirror_mode": {
    "name": "ipython",
    "version": 3
   },
   "file_extension": ".py",
   "mimetype": "text/x-python",
   "name": "python",
   "nbconvert_exporter": "python",
   "pygments_lexer": "ipython3",
   "version": "3.6.4"
  }
 },
 "nbformat": 4,
 "nbformat_minor": 2
}
