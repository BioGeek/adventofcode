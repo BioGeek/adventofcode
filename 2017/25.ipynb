{
 "cells": [
  {
   "cell_type": "code",
   "execution_count": 7,
   "metadata": {},
   "outputs": [],
   "source": [
    "import re\n",
    "\n",
    "with open('25_demo.txt') as f:\n",
    "    blueprint = f.read().splitlines()"
   ]
  },
  {
   "cell_type": "code",
   "execution_count": 8,
   "metadata": {},
   "outputs": [
    {
     "data": {
      "text/plain": [
       "['Begin in state A.',\n",
       " 'Perform a diagnostic checksum after 6 steps.',\n",
       " '',\n",
       " 'In state A:',\n",
       " '  If the current value is 0:',\n",
       " '    - Write the value 1.',\n",
       " '    - Move one slot to the right.',\n",
       " '    - Continue with state B.',\n",
       " '  If the current value is 1:',\n",
       " '    - Write the value 0.',\n",
       " '    - Move one slot to the left.',\n",
       " '    - Continue with state B.',\n",
       " '',\n",
       " 'In state B:',\n",
       " '  If the current value is 0:',\n",
       " '    - Write the value 1.',\n",
       " '    - Move one slot to the left.',\n",
       " '    - Continue with state A.',\n",
       " '  If the current value is 1:',\n",
       " '    - Write the value 1.',\n",
       " '    - Move one slot to the right.',\n",
       " '    - Continue with state A.']"
      ]
     },
     "execution_count": 8,
     "metadata": {},
     "output_type": "execute_result"
    }
   ],
   "source": [
    "blueprint"
   ]
  },
  {
   "cell_type": "code",
   "execution_count": 10,
   "metadata": {},
   "outputs": [],
   "source": [
    "class WMC:\n",
    "    \n",
    "    def __init__(self, write_val, move_to, continue_with):\n",
    "        self.write_val = write_val\n",
    "        self.move_to = move_to\n",
    "        self.continue_with = continue_with\n",
    "        \n",
    "    def write(self):\n",
    "        pass\n",
    "    \n",
    "    def move(self):\n",
    "        pass\n",
    "    \n",
    "    def contin(self):\n",
    "        pass\n",
    "    \n",
    "class State:\n",
    "\n",
    "    def __init__(self, name, wmc0, wmc1):\n",
    "        self.name\n",
    "        self.wmc0 = WMC(*wmc0)\n",
    "        self.wmc1 = WMC(*wmc1)\n",
    "        \n",
    "    \n",
    "        \n"
   ]
  },
  {
   "cell_type": "code",
   "execution_count": null,
   "metadata": {},
   "outputs": [],
   "source": []
  }
 ],
 "metadata": {
  "kernelspec": {
   "display_name": "Python 3.6.4",
   "language": "python",
   "name": "python_3.6.4"
  },
  "language_info": {
   "codemirror_mode": {
    "name": "ipython",
    "version": 3
   },
   "file_extension": ".py",
   "mimetype": "text/x-python",
   "name": "python",
   "nbconvert_exporter": "python",
   "pygments_lexer": "ipython3",
   "version": "3.6.4"
  }
 },
 "nbformat": 4,
 "nbformat_minor": 2
}
